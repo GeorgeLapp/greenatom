{
  "nbformat": 4,
  "nbformat_minor": 0,
  "metadata": {
    "colab": {
      "provenance": [],
      "authorship_tag": "ABX9TyPYUKJR01K7d6bPSEY6y7/u",
      "include_colab_link": true
    },
    "kernelspec": {
      "name": "python3",
      "display_name": "Python 3"
    },
    "language_info": {
      "name": "python"
    }
  },
  "cells": [
    {
      "cell_type": "markdown",
      "metadata": {
        "id": "view-in-github",
        "colab_type": "text"
      },
      "source": [
        "<a href=\"https://colab.research.google.com/github/GeorgeLapp/greenatom/blob/main/Untitled2.ipynb\" target=\"_parent\"><img src=\"https://colab.research.google.com/assets/colab-badge.svg\" alt=\"Open In Colab\"/></a>"
      ]
    },
    {
      "cell_type": "markdown",
      "source": [
        "Вопрос №1, \"какие шаги ты бы принял если бы пользователь сказал что api  возвращает ему ошибку 500\"\n",
        "\n",
        "Ошибка 500-это внутренняя проблема сервера. Она возникает, когда браузер или другой клиент отправляет серверу запрос, а тот не может его обработать.\n",
        "\n",
        "Шаги, которые я бы предложил в этой ситуации, следующие:\n",
        "\n",
        "Удостовериться, что ошибка 500 является внутренней ошибкой сервера и не является проблемой со стороны клиента.\n",
        "\n",
        "Проверить журналы сервера, чтобы понять, почему API возвращает ошибку 500.\n",
        "\n",
        "Попробовать повторно выполнить запрос, чтобы удостовериться, что ошибка не возникает из-за временных проблем.\n",
        "\n",
        "Обратиться к разработчикам API, чтобы получить дополнительные сведения и помощь в решении проблемы.\n",
        "\n",
        "Подумать о возможных решениях и попытаться их выполнить, например, обновление кода API или перезапуск сервера."
      ],
      "metadata": {
        "id": "VhKPloJem9ot"
      }
    },
    {
      "cell_type": "markdown",
      "source": [
        "Вопрос №2. ошибка и ее решение представленны ниже."
      ],
      "metadata": {
        "id": "3_5tXTgmV4OK"
      }
    },
    {
      "cell_type": "code",
      "source": [
        "def create_handlers(callback):\n",
        "  handlers=[]\n",
        "  for step in range(5):\n",
        "    handlers.append(lambda :callback(step))\n",
        "  return handlers\n",
        "\n",
        "def execute_handlers(handlers):\n",
        "  for handler in handlers:\n",
        "    handler()\n",
        "def callback(a):\n",
        "  print( a+1)\n",
        "  \n",
        "execute_handlers(create_handlers(callback=callback))"
      ],
      "metadata": {
        "colab": {
          "base_uri": "https://localhost:8080/"
        },
        "id": "WZQVod9uS8jS",
        "outputId": "e9291e4e-e536-4d70-a47d-eaf034db8337"
      },
      "execution_count": 50,
      "outputs": [
        {
          "output_type": "stream",
          "name": "stdout",
          "text": [
            "5\n",
            "5\n",
            "5\n",
            "5\n",
            "5\n"
          ]
        }
      ]
    },
    {
      "cell_type": "code",
      "source": [
        "Я считаю что проблема в том, что step не становится локальной переменной лямбды, а является внешней глобальной переменной, поэтому используется последнее значение переданное ей. Передав переменную в лямбда выражение мы решаем эту проблему\n"
      ],
      "metadata": {
        "id": "c8jXY5z0RQvp"
      },
      "execution_count": null,
      "outputs": []
    },
    {
      "cell_type": "code",
      "source": [
        "def create_handlers(callback):\n",
        "  handlers=[]\n",
        "  for step in range(5):\n",
        "    handlers.append(lambda step = step :callback(step))\n",
        "  return handlers\n",
        "\n",
        "def execute_handlers(handlers):\n",
        "  for handler in handlers:\n",
        "    handler()\n",
        "def callback(a):\n",
        "  print( a+1)\n",
        "\n",
        "execute_handlers(create_handlers(callback=callback))\n"
      ],
      "metadata": {
        "colab": {
          "base_uri": "https://localhost:8080/"
        },
        "id": "UwREX2mTn1o5",
        "outputId": "df684584-43f5-420c-8040-d099e9f1540f"
      },
      "execution_count": 29,
      "outputs": [
        {
          "output_type": "stream",
          "name": "stdout",
          "text": [
            "1\n",
            "2\n",
            "3\n",
            "4\n",
            "5\n"
          ]
        }
      ]
    },
    {
      "cell_type": "markdown",
      "source": [
        "Вопрос №3. Ответы вывел скрипт ниже."
      ],
      "metadata": {
        "id": "92sg5YuXTP1O"
      }
    },
    {
      "cell_type": "code",
      "source": [
        "from bs4 import BeautifulSoup\n",
        "import requests\n",
        "\n",
        "def count_html_tags(url):\n",
        "    # создаем GET запрос\n",
        "    response = requests.get(url)\n",
        "    \n",
        "    # парсим html контент\n",
        "    soup = BeautifulSoup(response.content, \"html.parser\")\n",
        "    \n",
        "    # ищем теги в контенте\n",
        "    tags = soup.find_all()\n",
        "    \n",
        "    # считаем количество тегов\n",
        "    num_tags = len(tags)\n",
        "    \n",
        "    # считаем количество тегов с атрибутами\n",
        "    num_tags_with_attributes = sum(1 for tag in tags if tag.attrs)\n",
        "    \n",
        "    return num_tags, num_tags_with_attributes\n",
        "\n",
        "url = \"https://greenatom.ru/\"\n",
        "num_tags, num_tags_with_attributes = count_html_tags(url)\n",
        "print(f\"Number of HTML tags: {num_tags}\")\n",
        "print(f\"Number of HTML tags with attributes: {num_tags_with_attributes}\")"
      ],
      "metadata": {
        "colab": {
          "base_uri": "https://localhost:8080/"
        },
        "id": "5L6sNsWLtcMb",
        "outputId": "876c85c1-8de5-4794-f445-3d63c5eb1def"
      },
      "execution_count": 26,
      "outputs": [
        {
          "output_type": "stream",
          "name": "stdout",
          "text": [
            "Number of HTML tags: 8\n",
            "Number of HTML tags with attributes: 1\n"
          ]
        }
      ]
    },
    {
      "cell_type": "markdown",
      "source": [
        "Вопрос №4. "
      ],
      "metadata": {
        "id": "XqWqQ_P8VvEL"
      }
    },
    {
      "cell_type": "code",
      "source": [
        "import http.client\n",
        "con = http.client.HTTPConnection(\"ifconfig.me\")\n",
        "con.request(\"GET\", \"/ip\")\n",
        "con.getresponse().read()"
      ],
      "metadata": {
        "colab": {
          "base_uri": "https://localhost:8080/"
        },
        "id": "L_GJQWkOTeEw",
        "outputId": "3cd3bc0c-25fc-46ea-b194-f22fc19be108"
      },
      "execution_count": 41,
      "outputs": [
        {
          "output_type": "execute_result",
          "data": {
            "text/plain": [
              "b'34.73.109.145'"
            ]
          },
          "metadata": {},
          "execution_count": 41
        }
      ]
    },
    {
      "cell_type": "markdown",
      "source": [
        "Вопрос №5."
      ],
      "metadata": {
        "id": "rj_j-wk2WQyk"
      }
    },
    {
      "cell_type": "code",
      "source": [
        "def version_comparer(a,b):\n",
        "  a=a.split(\".\")\n",
        "  b=b.split(\".\")\n",
        "  a1,a2=a[0],a[1]\n",
        "  b1,b2=b[0],b[1]\n",
        "  print(a1,a2,b1,b2)\n",
        "  if a1>b1:\n",
        "    print(1)\n",
        "  elif a1<b1:\n",
        "    print(-1)\n",
        "  else:\n",
        "    if a2>b2:\n",
        "      print(1)\n",
        "    elif a2<b2:\n",
        "      print(-1)\n",
        "    else:\n",
        "      print(0)\n",
        "a=input()\n",
        "b=input()\n",
        "version_comparer(a,b)\n",
        "\n"
      ],
      "metadata": {
        "id": "0Os9TFsIWWkb"
      },
      "execution_count": null,
      "outputs": []
    }
  ]
}